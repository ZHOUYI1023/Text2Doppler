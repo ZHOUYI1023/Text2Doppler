{
 "cells": [
  {
   "cell_type": "code",
   "execution_count": 17,
   "id": "ec9269e1",
   "metadata": {},
   "outputs": [
    {
     "data": {
      "image/png": "[encoded data removed]",
      "text/plain": [
       "<Figure size 288x216 with 1 Axes>"
      ]
     },
     "metadata": {
      "needs_background": "light"
     },
     "output_type": "display_data"
    }
   ],
   "source": [
    "import matplotlib.pyplot as plt\n",
    "from matplotlib.animation import FuncAnimation\n",
    "from visualization import plot_ellipsoid, plot_line\n",
    "import numpy as np\n",
    "from bvh import Bvh\n",
    "\n",
    "anim = Bvh()\n",
    "anim.parse_file(\"/home/yi/Desktop/momask-codes/generation/walking/sample9_repeat9_len196.bvh\")\n",
    "\n",
    "frame_length = 196  # 假设动画长度为20帧\n",
    "\n",
    "fig = plt.figure(figsize=(4, 3))\n",
    "ax = fig.add_subplot(111, projection='3d')\n",
    "ax.set_xlim(-1, 1)\n",
    "ax.set_ylim(-1, 1)\n",
    "ax.set_zlim(0, 2)\n",
    "ax.view_init(elev=15, azim=140)\n",
    "plt.axis('off')\n",
    "\n",
    "def update(frame_ind):\n",
    "    ax.clear()  # 清除上一帧的图像\n",
    "    ax.set_xlim(-1, 1)\n",
    "    ax.set_ylim(-1, 1)\n",
    "    ax.set_zlim(0, 2)\n",
    "    ax.view_init(elev=15, azim=140)\n",
    "    plt.axis('off')\n",
    "    \n",
    "    positions, rotations = anim.frame_pose(frame_ind)\n",
    "    print(positions.shape)\n",
    "\n",
    "    positions[:, [-1, -2]] = positions[:, [-2, -1]]\n",
    "    print(positions.shape)\n",
    "\n",
    "    # 定义不同身体部位的索引列表\n",
    "    index_lists = {\n",
    "        'left_leg': [0, 1, 2, 3, 4, 5],\n",
    "        'right_leg': [0, 6, 7, 8, 9, 10],\n",
    "        'middle': [0, 11, 12, 13, 14, 15, 16],\n",
    "        'left_arm': [13, 17, 18, 19, 20, 21],\n",
    "        'right_arm': [13, 22, 23, 24, 25, 26],\n",
    "    }\n",
    "\n",
    "    # 用不同的minor_radius比例绘制不同部位\n",
    "    minor_radius_ratios = {'left_leg': 0.1, 'right_leg': 0.1, 'middle': 0.5, 'left_arm': 0.1, 'right_arm': 0.1}\n",
    "\n",
    "    for part, indices in index_lists.items():\n",
    "        for i in range(len(indices)-1):\n",
    "            A = positions[indices[i]]\n",
    "            B = positions[indices[i + 1]]\n",
    "            plot_line(ax, A, B)\n",
    "            #plot_ellipsoid(ax, A, B, minor_radius1_ratio=minor_radius_ratios[part], minor_radius2_ratio=minor_radius_ratios[part])"
   ]
  },
  {
   "cell_type": "code",
   "execution_count": 22,
   "id": "dd8b39e5",
   "metadata": {},
   "outputs": [
    {
     "name": "stdout",
     "output_type": "stream",
     "text": [
      "(27, 3)\n",
      "(27, 3)\n"
     ]
    },
    {
     "data": {
      "image/png": "[encoded data removed]",
      "text/plain": [
       "<Figure size 360x360 with 1 Axes>"
      ]
     },
     "metadata": {
      "needs_background": "light"
     },
     "output_type": "display_data"
    }
   ],
   "source": [
    "fig = plt.figure(figsize=(5, 5))\n",
    "ax = fig.add_subplot(111, projection='3d')\n",
    "ax.set_xlim(-1, 1)\n",
    "ax.set_ylim(-1, 1)\n",
    "ax.set_zlim(0, 2)\n",
    "ax.view_init(elev=15, azim=140)\n",
    "plt.axis('off')\n",
    "update(0)"
   ]
  },
  {
   "cell_type": "code",
   "execution_count": 3,
   "id": "8e901cb9",
   "metadata": {},
   "outputs": [
    {
     "data": {
      "image/png": "[encoded data removed]",
      "text/plain": [
       "<Figure size 288x216 with 1 Axes>"
      ]
     },
     "metadata": {
      "needs_background": "light"
     },
     "output_type": "display_data"
    }
   ],
   "source": [
    "fig = plt.figure(figsize=(4, 3))\n",
    "ax = fig.add_subplot(111, projection='3d')\n",
    "ax.set_xlim(-1, 1)\n",
    "ax.set_ylim(-1, 1)\n",
    "ax.set_zlim(0, 2)\n",
    "ax.view_init(elev=15, azim=140)\n",
    "plt.axis('off')\n",
    "update(frame_length-50)"
   ]
  },
  {
   "cell_type": "code",
   "execution_count": 4,
   "id": "f4f42687",
   "metadata": {},
   "outputs": [],
   "source": [
    "ani = FuncAnimation(fig, update, frames=frame_length, blit=False)"
   ]
  },
  {
   "cell_type": "code",
   "execution_count": 5,
   "id": "ca614243",
   "metadata": {},
   "outputs": [
    {
     "name": "stderr",
     "output_type": "stream",
     "text": [
      "<ipython-input-5-315c76047029>:1: MatplotlibDeprecationWarning: The save_count attribute was deprecated in Matplotlib 3.7 and will be removed two minor releases later.\n",
      "  ani.save_count\n"
     ]
    },
    {
     "data": {
      "text/plain": [
       "196"
      ]
     },
     "execution_count": 5,
     "metadata": {},
     "output_type": "execute_result"
    }
   ],
   "source": [
    "ani.save_count"
   ]
  },
  {
   "cell_type": "code",
   "execution_count": 6,
   "id": "f3cec693",
   "metadata": {},
   "outputs": [],
   "source": [
    "import time"
   ]
  },
  {
   "cell_type": "code",
   "execution_count": 8,
   "id": "d2747915",
   "metadata": {},
   "outputs": [
    {
     "name": "stdout",
     "output_type": "stream",
     "text": [
      "19.698099374771118\n"
     ]
    },
    {
     "data": {
      "image/png": "[encoded data removed]",
      "text/plain": [
       "<Figure size 432x288 with 1 Axes>"
      ]
     },
     "metadata": {
      "needs_background": "light"
     },
     "output_type": "display_data"
    }
   ],
   "source": [
    "start_time = time.time()\n",
    "ani.save('animation.gif', writer='imagemagick',fps=50 , dpi = 50)\n",
    "end_time = time.time()\n",
    "print(end_time-start_time)"
   ]
  },
  {
   "cell_type": "code",
   "execution_count": 12,
   "id": "658dc447",
   "metadata": {},
   "outputs": [],
   "source": [
    "positions_all, rotations_all = anim.all_frame_poses()\n",
    "positions_all = positions_all.transpose(1, 2, 0)"
   ]
  },
  {
   "cell_type": "code",
   "execution_count": 14,
   "id": "62d9e250",
   "metadata": {},
   "outputs": [
    {
     "data": {
      "text/plain": [
       "196"
      ]
     },
     "execution_count": 14,
     "metadata": {},
     "output_type": "execute_result"
    }
   ],
   "source": [
    "positions_all.shape[-1]"
   ]
  },
  {
   "cell_type": "code",
   "execution_count": 9,
   "id": "f19bd2b4",
   "metadata": {},
   "outputs": [],
   "source": [
    "flag = 'line'"
   ]
  },
  {
   "cell_type": "code",
   "execution_count": 11,
   "id": "4098f85c",
   "metadata": {},
   "outputs": [
    {
     "data": {
      "text/plain": [
       "True"
      ]
     },
     "execution_count": 11,
     "metadata": {},
     "output_type": "execute_result"
    }
   ],
   "source": [
    "flag == 'line'"
   ]
  },
  {
   "cell_type": "code",
   "execution_count": 24,
   "id": "ba46b9cb",
   "metadata": {},
   "outputs": [
    {
     "data": {
      "text/plain": [
       "16"
      ]
     },
     "execution_count": 24,
     "metadata": {},
     "output_type": "execute_result"
    }
   ],
   "source": [
    "import os\n",
    "os.cpu_count()"
   ]
  },
  {
   "cell_type": "code",
   "execution_count": null,
   "id": "880c445f",
   "metadata": {},
   "outputs": [],
   "source": []
  }
 ],
 "metadata": {
  "kernelspec": {
   "display_name": "Python 3",
   "language": "python",
   "name": "python3"
  },
  "language_info": {
   "codemirror_mode": {
    "name": "ipython",
    "version": 3
   },
   "file_extension": ".py",
   "mimetype": "text/x-python",
   "name": "python",
   "nbconvert_exporter": "python",
   "pygments_lexer": "ipython3",
   "version": "3.8.8"
  }
 },
 "nbformat": 4,
 "nbformat_minor": 5
}
