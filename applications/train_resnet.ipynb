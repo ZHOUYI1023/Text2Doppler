{
 "cells": [
  {
   "cell_type": "code",
   "execution_count": 1,
   "metadata": {},
   "outputs": [],
   "source": [
    "import torch\n",
    "import torch.nn as nn\n",
    "import torch.nn.functional as F\n",
    "import torch.optim as optim\n",
    "import torch.optim.lr_scheduler as lr_scheduler\n",
    "import torch.utils.data as data\n",
    "\n",
    "import torchvision.transforms as transforms\n",
    "import torchvision.datasets as datasets\n",
    "import torchvision.models as models\n",
    "\n",
    "from models.crnn import CRNN\n",
    "from models.convlstm import Conv1DLSTM\n",
    "from models.convlstm_fcn_all import Conv1DLSTM_All\n",
    "\n",
    "from utils.train_utils import train, EarlyStopping, load_checkpoint, count_parameters, epoch_time\n",
    "from utils.test_utils import evaluate\n",
    "from utils.visualization import get_predictions, plot_confusion_matrix\n",
    "\n",
    "\n",
    "import matplotlib.pyplot as plt\n",
    "import numpy as np\n",
    "import copy\n",
    "import os\n",
    "import random\n",
    "import time"
   ]
  },
  {
   "cell_type": "code",
   "execution_count": 2,
   "metadata": {},
   "outputs": [],
   "source": [
    "SEED = 37\n",
    "\n",
    "random.seed(SEED)\n",
    "np.random.seed(SEED)\n",
    "torch.manual_seed(SEED)\n",
    "torch.cuda.manual_seed(SEED)\n",
    "torch.backends.cudnn.deterministic = True"
   ]
  },
  {
   "cell_type": "markdown",
   "metadata": {},
   "source": [
    "## Dataset Loader"
   ]
  },
  {
   "cell_type": "code",
   "execution_count": 3,
   "metadata": {},
   "outputs": [],
   "source": [
    "ROOT =  \"/home/yi/Desktop/momask-codes/signal_processing/fig/\"\n",
    "data_dir = os.path.join(ROOT, 'sim')\n",
    "train_dir = os.path.join(data_dir, 'train')\n",
    "test_dir = os.path.join(data_dir, 'test')\n",
    "\n",
    "pretrained_size = 224\n",
    "pretrained_means = [0.0239, 0.0350, 0.4974]\n",
    "pretrained_stds= [0.1347, 0.1664, 0.0864]\n",
    "\n",
    "train_transforms = transforms.Compose([\n",
    "                           transforms.Resize(pretrained_size),\n",
    "                           transforms.ToTensor(),\n",
    "                           transforms.Normalize(mean = pretrained_means, \n",
    "                                                std = pretrained_stds)\n",
    "                       ])\n",
    "test_transforms = transforms.Compose([\n",
    "                           transforms.Resize(pretrained_size),\n",
    "                           transforms.ToTensor(),\n",
    "                           transforms.Normalize(mean = pretrained_means, \n",
    "                                                std = pretrained_stds)\n",
    "                       ])\n",
    "train_data = datasets.ImageFolder(root = train_dir, \n",
    "                                  transform = train_transforms)\n",
    "test_data = datasets.ImageFolder(root = test_dir, \n",
    "                                 transform = test_transforms)\n",
    "VALID_RATIO = 0.9\n",
    "\n",
    "n_train_examples = int(len(train_data) * VALID_RATIO)\n",
    "n_valid_examples = len(train_data) - n_train_examples\n",
    "\n",
    "train_data, valid_data = data.random_split(train_data, \n",
    "                                           [n_train_examples, n_valid_examples])\n",
    "valid_data = copy.deepcopy(valid_data)\n",
    "valid_data.dataset.transform = test_transforms\n",
    "\n",
    "BATCH_SIZE = 64\n",
    "\n",
    "train_iterator = data.DataLoader(train_data, \n",
    "                                 shuffle = True, \n",
    "                                 batch_size = BATCH_SIZE)\n",
    "\n",
    "valid_iterator = data.DataLoader(valid_data, \n",
    "                                 batch_size = BATCH_SIZE)\n",
    "test_iterator = data.DataLoader(test_data, \n",
    "                                batch_size = BATCH_SIZE)"
   ]
  },
  {
   "cell_type": "markdown",
   "metadata": {},
   "source": [
    "## Model"
   ]
  },
  {
   "cell_type": "code",
   "execution_count": 4,
   "metadata": {},
   "outputs": [
    {
     "name": "stdout",
     "output_type": "stream",
     "text": [
      "The model has 11,180,616 trainable parameters\n"
     ]
    }
   ],
   "source": [
    "model = models.resnet18()\n",
    "IN_FEATURES = model.fc.in_features \n",
    "OUTPUT_DIM = len(test_data.classes)\n",
    "fc = nn.Linear(IN_FEATURES, OUTPUT_DIM)\n",
    "model.fc = fc\n",
    "print(f'The model has {count_parameters(model):,} trainable parameters')"
   ]
  },
  {
   "cell_type": "markdown",
   "metadata": {},
   "source": [
    "## Hyper Parameters for Training"
   ]
  },
  {
   "cell_type": "code",
   "execution_count": 6,
   "metadata": {},
   "outputs": [],
   "source": [
    "optimizer = optim.Adam(model.parameters(), lr = 1e-3)\n",
    "\n",
    "EPOCHS = 100\n",
    "\n",
    "scheduler = lr_scheduler.ReduceLROnPlateau(optimizer, 'min', factor = 0.1, patience = 10, verbose = True)\n",
    "\n",
    "device = torch.device('cuda' if torch.cuda.is_available() else 'cpu')\n",
    "\n",
    "criterion = nn.CrossEntropyLoss()\n",
    "\n",
    "model = model.to(device)\n",
    "criterion = criterion.to(device)"
   ]
  },
  {
   "cell_type": "markdown",
   "metadata": {},
   "source": [
    "### Start Training"
   ]
  },
  {
   "cell_type": "code",
   "execution_count": 60,
   "metadata": {},
   "outputs": [
    {
     "name": "stdout",
     "output_type": "stream",
     "text": [
      "Epoch: 01 | Epoch Time: 0m 32s\n",
      "\tTrain Loss: 0.068 | Train Acc:  97.81%\n",
      "\tValid Loss: 1.025 | Valid Acc:  76.07%\n",
      "\tTest Loss: 0.981 | Test Acc:  75.58%\n",
      "Epoch: 02 | Epoch Time: 0m 32s\n",
      "\tTrain Loss: 0.107 | Train Acc:  96.27%\n",
      "\tValid Loss: 1.474 | Valid Acc:  68.73%\n",
      "\tTest Loss: 1.693 | Test Acc:  68.61%\n",
      "INFO: Early stopping counter 1 of 10\n",
      "Epoch: 03 | Epoch Time: 0m 33s\n",
      "\tTrain Loss: 0.051 | Train Acc:  98.39%\n",
      "\tValid Loss: 1.270 | Valid Acc:  72.51%\n",
      "\tTest Loss: 1.307 | Test Acc:  73.75%\n",
      "INFO: Early stopping counter 2 of 10\n",
      "Epoch: 04 | Epoch Time: 0m 32s\n",
      "\tTrain Loss: 0.066 | Train Acc:  97.70%\n",
      "\tValid Loss: 1.005 | Valid Acc:  76.79%\n",
      "\tTest Loss: 1.087 | Test Acc:  77.10%\n",
      "Epoch: 05 | Epoch Time: 0m 33s\n",
      "\tTrain Loss: 0.035 | Train Acc:  98.80%\n",
      "\tValid Loss: 0.551 | Valid Acc:  84.33%\n",
      "\tTest Loss: 0.752 | Test Acc:  83.55%\n",
      "Epoch: 06 | Epoch Time: 0m 33s\n",
      "\tTrain Loss: 0.024 | Train Acc:  99.42%\n",
      "\tValid Loss: 1.376 | Valid Acc:  71.59%\n",
      "\tTest Loss: 1.447 | Test Acc:  71.05%\n",
      "INFO: Early stopping counter 1 of 10\n",
      "Epoch: 07 | Epoch Time: 0m 33s\n",
      "\tTrain Loss: 0.030 | Train Acc:  99.06%\n",
      "\tValid Loss: 1.354 | Valid Acc:  78.92%\n",
      "\tTest Loss: 1.290 | Test Acc:  78.43%\n",
      "INFO: Early stopping counter 2 of 10\n",
      "Epoch: 08 | Epoch Time: 0m 33s\n",
      "\tTrain Loss: 0.018 | Train Acc:  99.42%\n",
      "\tValid Loss: 1.580 | Valid Acc:  71.69%\n",
      "\tTest Loss: 1.495 | Test Acc:  73.00%\n",
      "INFO: Early stopping counter 3 of 10\n",
      "Epoch    32: reducing learning rate of group 0 to 1.0000e-04.\n",
      "Epoch: 09 | Epoch Time: 0m 33s\n",
      "\tTrain Loss: 0.017 | Train Acc:  99.64%\n",
      "\tValid Loss: 0.610 | Valid Acc:  87.46%\n",
      "\tTest Loss: 0.660 | Test Acc:  86.82%\n",
      "INFO: Early stopping counter 4 of 10\n",
      "Epoch: 10 | Epoch Time: 0m 33s\n",
      "\tTrain Loss: 0.010 | Train Acc:  99.82%\n",
      "\tValid Loss: 0.365 | Valid Acc:  90.96%\n",
      "\tTest Loss: 0.493 | Test Acc:  90.61%\n",
      "Epoch: 11 | Epoch Time: 0m 33s\n",
      "\tTrain Loss: 0.003 | Train Acc: 100.00%\n",
      "\tValid Loss: 0.361 | Valid Acc:  91.08%\n",
      "\tTest Loss: 0.483 | Test Acc:  90.61%\n",
      "Epoch: 12 | Epoch Time: 0m 33s\n",
      "\tTrain Loss: 0.004 | Train Acc:  99.96%\n",
      "\tValid Loss: 0.346 | Valid Acc:  91.90%\n",
      "\tTest Loss: 0.475 | Test Acc:  91.13%\n",
      "Epoch: 13 | Epoch Time: 0m 33s\n",
      "\tTrain Loss: 0.003 | Train Acc: 100.00%\n",
      "\tValid Loss: 0.362 | Valid Acc:  92.21%\n",
      "\tTest Loss: 0.471 | Test Acc:  90.87%\n",
      "INFO: Early stopping counter 1 of 10\n",
      "Epoch: 14 | Epoch Time: 0m 33s\n",
      "\tTrain Loss: 0.002 | Train Acc: 100.00%\n",
      "\tValid Loss: 0.356 | Valid Acc:  91.90%\n",
      "\tTest Loss: 0.468 | Test Acc:  91.00%\n",
      "INFO: Early stopping counter 2 of 10\n",
      "Epoch: 15 | Epoch Time: 0m 33s\n",
      "\tTrain Loss: 0.002 | Train Acc: 100.00%\n",
      "\tValid Loss: 0.360 | Valid Acc:  92.12%\n",
      "\tTest Loss: 0.470 | Test Acc:  90.87%\n",
      "INFO: Early stopping counter 3 of 10\n",
      "Epoch: 16 | Epoch Time: 0m 33s\n",
      "\tTrain Loss: 0.003 | Train Acc:  99.96%\n",
      "\tValid Loss: 0.357 | Valid Acc:  92.00%\n",
      "\tTest Loss: 0.472 | Test Acc:  90.99%\n",
      "INFO: Early stopping counter 4 of 10\n",
      "Epoch: 17 | Epoch Time: 0m 33s\n",
      "\tTrain Loss: 0.002 | Train Acc: 100.00%\n",
      "\tValid Loss: 0.369 | Valid Acc:  93.25%\n",
      "\tTest Loss: 0.471 | Test Acc:  91.13%\n",
      "INFO: Early stopping counter 5 of 10\n",
      "Epoch: 18 | Epoch Time: 0m 33s\n",
      "\tTrain Loss: 0.001 | Train Acc: 100.00%\n",
      "\tValid Loss: 0.360 | Valid Acc:  91.80%\n",
      "\tTest Loss: 0.463 | Test Acc:  90.87%\n",
      "INFO: Early stopping counter 6 of 10\n",
      "Epoch: 19 | Epoch Time: 0m 33s\n",
      "\tTrain Loss: 0.001 | Train Acc: 100.00%\n",
      "\tValid Loss: 0.365 | Valid Acc:  92.84%\n",
      "\tTest Loss: 0.464 | Test Acc:  91.52%\n",
      "INFO: Early stopping counter 7 of 10\n",
      "Epoch: 20 | Epoch Time: 0m 33s\n",
      "\tTrain Loss: 0.001 | Train Acc: 100.00%\n",
      "\tValid Loss: 0.354 | Valid Acc:  92.84%\n",
      "\tTest Loss: 0.464 | Test Acc:  91.00%\n",
      "INFO: Early stopping counter 8 of 10\n",
      "Epoch: 21 | Epoch Time: 0m 33s\n",
      "\tTrain Loss: 0.001 | Train Acc: 100.00%\n",
      "\tValid Loss: 0.346 | Valid Acc:  92.62%\n",
      "\tTest Loss: 0.469 | Test Acc:  91.26%\n",
      "Epoch: 22 | Epoch Time: 0m 33s\n",
      "\tTrain Loss: 0.001 | Train Acc: 100.00%\n",
      "\tValid Loss: 0.362 | Valid Acc:  92.31%\n",
      "\tTest Loss: 0.471 | Test Acc:  91.00%\n",
      "INFO: Early stopping counter 1 of 10\n",
      "Epoch: 23 | Epoch Time: 0m 33s\n",
      "\tTrain Loss: 0.001 | Train Acc: 100.00%\n",
      "\tValid Loss: 0.355 | Valid Acc:  93.25%\n",
      "\tTest Loss: 0.463 | Test Acc:  91.39%\n",
      "INFO: Early stopping counter 2 of 10\n",
      "Epoch: 24 | Epoch Time: 0m 33s\n",
      "\tTrain Loss: 0.001 | Train Acc: 100.00%\n",
      "\tValid Loss: 0.350 | Valid Acc:  93.65%\n",
      "\tTest Loss: 0.468 | Test Acc:  91.26%\n",
      "INFO: Early stopping counter 3 of 10\n",
      "Epoch: 25 | Epoch Time: 0m 33s\n",
      "\tTrain Loss: 0.002 | Train Acc:  99.96%\n",
      "\tValid Loss: 0.390 | Valid Acc:  91.80%\n",
      "\tTest Loss: 0.481 | Test Acc:  90.88%\n",
      "INFO: Early stopping counter 4 of 10\n",
      "Epoch: 26 | Epoch Time: 0m 33s\n",
      "\tTrain Loss: 0.001 | Train Acc: 100.00%\n",
      "\tValid Loss: 0.380 | Valid Acc:  91.18%\n",
      "\tTest Loss: 0.477 | Test Acc:  90.61%\n",
      "INFO: Early stopping counter 5 of 10\n",
      "Epoch: 27 | Epoch Time: 0m 33s\n",
      "\tTrain Loss: 0.001 | Train Acc: 100.00%\n",
      "\tValid Loss: 0.362 | Valid Acc:  92.84%\n",
      "\tTest Loss: 0.473 | Test Acc:  91.13%\n",
      "INFO: Early stopping counter 6 of 10\n",
      "Epoch: 28 | Epoch Time: 0m 33s\n",
      "\tTrain Loss: 0.001 | Train Acc: 100.00%\n",
      "\tValid Loss: 0.367 | Valid Acc:  92.74%\n",
      "\tTest Loss: 0.473 | Test Acc:  90.74%\n",
      "INFO: Early stopping counter 7 of 10\n",
      "Epoch: 29 | Epoch Time: 0m 33s\n",
      "\tTrain Loss: 0.001 | Train Acc: 100.00%\n",
      "\tValid Loss: 0.357 | Valid Acc:  93.25%\n",
      "\tTest Loss: 0.475 | Test Acc:  91.13%\n",
      "INFO: Early stopping counter 8 of 10\n",
      "Epoch: 30 | Epoch Time: 0m 33s\n",
      "\tTrain Loss: 0.001 | Train Acc: 100.00%\n",
      "\tValid Loss: 0.361 | Valid Acc:  93.25%\n",
      "\tTest Loss: 0.477 | Test Acc:  91.13%\n",
      "INFO: Early stopping counter 9 of 10\n",
      "Epoch: 31 | Epoch Time: 0m 33s\n",
      "\tTrain Loss: 0.001 | Train Acc: 100.00%\n",
      "\tValid Loss: 0.355 | Valid Acc:  93.56%\n",
      "\tTest Loss: 0.473 | Test Acc:  91.13%\n",
      "INFO: Early stopping counter 10 of 10\n",
      "INFO: Early stopping\n",
      "Early stopping at epoch 31\n"
     ]
    }
   ],
   "source": [
    "checkpoint_path = 'resnet_checkpoint.pth'\n",
    "model_path = 'resnet_model.pth'\n",
    "best_valid_loss = float('inf')\n",
    "early_stopping = EarlyStopping(patience=10)\n",
    "\n",
    "continue_flag = False\n",
    "if continue_flag:\n",
    "    model, optimizer, start_epoch = load_checkpoint(model, optimizer, checkpoint_path)\n",
    "    \n",
    "for epoch in range(EPOCHS):\n",
    "    start_time = time.monotonic()\n",
    "    \n",
    "    train_loss, train_acc = train(model, train_iterator, optimizer, criterion, device)\n",
    "    valid_loss, valid_acc = evaluate(model, valid_iterator, criterion, device)\n",
    "    test_loss, test_acc = evaluate(model, test_iterator, criterion, device)\n",
    "\n",
    "        \n",
    "    if valid_loss < best_valid_loss:\n",
    "        best_valid_loss = valid_loss\n",
    "        torch.save(model.state_dict(), model_path)\n",
    "        \n",
    "    scheduler.step(valid_loss)\n",
    "\n",
    "    end_time = time.monotonic()\n",
    "\n",
    "    epoch_mins, epoch_secs = epoch_time(start_time, end_time)\n",
    "    \n",
    "    print(f'Epoch: {epoch+1:02} | Epoch Time: {epoch_mins}m {epoch_secs}s')\n",
    "    print(f'\\tTrain Loss: {train_loss:.3f} | Train Acc: {train_acc*100:6.2f}%')\n",
    "    print(f'\\tValid Loss: {valid_loss:.3f} | Valid Acc: {valid_acc*100:6.2f}%')\n",
    "    print(f'\\tTest Loss: {test_loss:.3f} | Test Acc: {test_acc*100:6.2f}%')\n",
    "    \n",
    "    torch.save({'epoch': epoch, \n",
    "                'model_state_dict': model.state_dict(),\n",
    "                'optimizer_state_dict': optimizer.state_dict()},\n",
    "                 checkpoint_path)\n",
    "    \n",
    "    early_stopping(valid_loss)\n",
    "    if early_stopping.early_stop:\n",
    "        print(f\"Early stopping at epoch {epoch+1:02}\")\n",
    "        break"
   ]
  },
  {
   "cell_type": "markdown",
   "metadata": {},
   "source": [
    "### Evaluation"
   ]
  },
  {
   "cell_type": "code",
   "execution_count": 7,
   "metadata": {},
   "outputs": [
    {
     "name": "stdout",
     "output_type": "stream",
     "text": [
      "Test Loss: 0.469 | Test Acc @1:  91.26% \n"
     ]
    }
   ],
   "source": [
    "model_path = 'resnet_model.pth'\n",
    "\n",
    "model.load_state_dict(torch.load(model_path))\n",
    "\n",
    "test_loss, test_acc = evaluate(model, test_iterator, criterion, device)\n",
    "\n",
    "print(f'Test Loss: {test_loss:.3f} | Test Acc @1: {test_acc*100:6.2f}% ')"
   ]
  },
  {
   "cell_type": "code",
   "execution_count": 62,
   "metadata": {},
   "outputs": [],
   "source": [
    "images, labels, probs = get_predictions(model, test_iterator, device)\n",
    "pred_labels = torch.argmax(probs, 1)\n",
    "corrects = torch.eq(labels, pred_labels)\n",
    "classes = test_data.classes"
   ]
  },
  {
   "cell_type": "code",
   "execution_count": 63,
   "metadata": {},
   "outputs": [],
   "source": [
    "from utils.visualization import plot_confusion_matrix"
   ]
  },
  {
   "cell_type": "code",
   "execution_count": 67,
   "metadata": {},
   "outputs": [],
   "source": [
    "import torch\n",
    "import torch.nn.functional as F\n",
    "import numpy as np\n",
    "import matplotlib.pyplot as plt\n",
    "from sklearn import decomposition\n",
    "from sklearn import manifold\n",
    "from sklearn.metrics import confusion_matrix\n",
    "from sklearn.metrics import ConfusionMatrixDisplay\n",
    "\n",
    "def plot_confusion_matrix(labels, pred_labels, classes, save_path=None):\n",
    "    fig = plt.figure(figsize = (7, 7));\n",
    "    ax = fig.add_subplot(1, 1, 1);\n",
    "    cm = confusion_matrix(labels, pred_labels, normalize='pred');\n",
    "    cm = ConfusionMatrixDisplay(cm, display_labels = classes);\n",
    "    cm.plot(values_format = '.2f', cmap = 'Blues', ax = ax)\n",
    "    fig.delaxes(fig.axes[1]) #delete colorbar\n",
    "    plt.xticks(rotation = 90)\n",
    "    plt.xlabel('Predicted Label', fontsize = 10)\n",
    "    plt.ylabel('True Label', fontsize = 10)\n",
    "    if save_path is not None:\n",
    "        plt.savefig(save_path, dpi=500)"
   ]
  },
  {
   "cell_type": "code",
   "execution_count": 68,
   "metadata": {},
   "outputs": [
    {
     "data": {
      "image/png": "[encoded data removed]",
      "text/plain": [
       "<Figure size 504x504 with 1 Axes>"
      ]
     },
     "metadata": {
      "needs_background": "light"
     },
     "output_type": "display_data"
    }
   ],
   "source": [
    "plot_confusion_matrix(labels, pred_labels, classes, 'resnet.png')"
   ]
  },
  {
   "cell_type": "markdown",
   "metadata": {},
   "source": [
    "# Linear Probing"
   ]
  },
  {
   "cell_type": "code",
   "execution_count": null,
   "metadata": {},
   "outputs": [],
   "source": [
    "model.load_state_dict(torch.load(model_path))\n",
    "# Freeze all the layers\n",
    "for param in model.parameters():\n",
    "    param.requires_grad = False\n",
    "\n",
    "# Replace the last layer\n",
    "num_features = model.fc.in_features\n",
    "model.fc = nn.Linear(num_features, num_classes)  # Assuming num_classes is defined\n",
    "\n",
    "# Define loss and optimizer\n",
    "criterion = nn.CrossEntropyLoss()\n",
    "optimizer = torch.optim.Adam(model.fc.parameters(), lr=0.001)"
   ]
  },
  {
   "cell_type": "markdown",
   "metadata": {},
   "source": [
    "# Fine Tuning"
   ]
  },
  {
   "cell_type": "code",
   "execution_count": null,
   "metadata": {},
   "outputs": [],
   "source": [
    "model.load_state_dict(torch.load(model_path))\n",
    "# Optionally freeze the layers except the final layer\n",
    "for param in model.parameters():\n",
    "    param.requires_grad = False\n",
    "\n",
    "# Make sure the last layer is unfrozen to fine-tune it\n",
    "model.fc = nn.Linear(model.fc.in_features, num_classes)  # Replace the last layer\n",
    "for param in model.fc.parameters():\n",
    "    param.requires_grad = True\n",
    "\n",
    "# Define loss and optimizer\n",
    "criterion = nn.CrossEntropyLoss()\n",
    "# Fine-tune all parameters\n",
    "optimizer = torch.optim.Adam(filter(lambda p: p.requires_grad, model.parameters()), lr=0.001)"
   ]
  }
 ],
 "metadata": {
  "kernelspec": {
   "display_name": "Python 3",
   "language": "python",
   "name": "python3"
  },
  "language_info": {
   "codemirror_mode": {
    "name": "ipython",
    "version": 3
   },
   "file_extension": ".py",
   "mimetype": "text/x-python",
   "name": "python",
   "nbconvert_exporter": "python",
   "pygments_lexer": "ipython3",
   "version": "3.8.8"
  }
 },
 "nbformat": 4,
 "nbformat_minor": 4
}
